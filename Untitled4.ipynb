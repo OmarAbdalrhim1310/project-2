{
 "cells": [
  {
   "cell_type": "code",
   "execution_count": 16,
   "id": "6684ac16-c94e-4bfe-b460-2871ef1ca39e",
   "metadata": {},
   "outputs": [],
   "source": [
    "# Import required libraries\n",
    "import pandas as pd\n",
    "import numpy as np\n",
    "import matplotlib.pyplot as plt\n",
    "from sklearn.model_selection import train_test_split\n",
    "from sklearn.feature_extraction.text import TfidfVectorizer\n",
    "from sklearn.naive_bayes import MultinomialNB\n",
    "import xgboost as xgb\n",
    "from sklearn.svm import SVC\n",
    "from sklearn.ensemble import RandomForestClassifier\n",
    "from sklearn.tree import DecisionTreeClassifier,DecisionTreeRegressor\n",
    "from sklearn.linear_model import LogisticRegression\n",
    "from sklearn.metrics import accuracy_score, confusion_matrix, classification_report\n",
    "import nltk\n",
    "from nltk.corpus import stopwords\n",
    "from nltk.stem import PorterStemmer\n",
    "import string"
   ]
  },
  {
   "cell_type": "code",
   "execution_count": 17,
   "id": "14d5b77f-342c-4cfb-8b22-e5fac546a7ed",
   "metadata": {},
   "outputs": [
    {
     "data": {
      "text/html": [
       "<div>\n",
       "<style scoped>\n",
       "    .dataframe tbody tr th:only-of-type {\n",
       "        vertical-align: middle;\n",
       "    }\n",
       "\n",
       "    .dataframe tbody tr th {\n",
       "        vertical-align: top;\n",
       "    }\n",
       "\n",
       "    .dataframe thead th {\n",
       "        text-align: right;\n",
       "    }\n",
       "</style>\n",
       "<table border=\"1\" class=\"dataframe\">\n",
       "  <thead>\n",
       "    <tr style=\"text-align: right;\">\n",
       "      <th></th>\n",
       "      <th>label</th>\n",
       "      <th>message</th>\n",
       "    </tr>\n",
       "  </thead>\n",
       "  <tbody>\n",
       "    <tr>\n",
       "      <th>0</th>\n",
       "      <td>ham</td>\n",
       "      <td>Go until jurong point, crazy.. Available only ...</td>\n",
       "    </tr>\n",
       "    <tr>\n",
       "      <th>1</th>\n",
       "      <td>ham</td>\n",
       "      <td>Ok lar... Joking wif u oni...</td>\n",
       "    </tr>\n",
       "    <tr>\n",
       "      <th>2</th>\n",
       "      <td>spam</td>\n",
       "      <td>Free entry in 2 a wkly comp to win FA Cup fina...</td>\n",
       "    </tr>\n",
       "    <tr>\n",
       "      <th>3</th>\n",
       "      <td>ham</td>\n",
       "      <td>U dun say so early hor... U c already then say...</td>\n",
       "    </tr>\n",
       "    <tr>\n",
       "      <th>4</th>\n",
       "      <td>ham</td>\n",
       "      <td>Nah I don't think he goes to usf, he lives aro...</td>\n",
       "    </tr>\n",
       "  </tbody>\n",
       "</table>\n",
       "</div>"
      ],
      "text/plain": [
       "  label                                            message\n",
       "0   ham  Go until jurong point, crazy.. Available only ...\n",
       "1   ham                      Ok lar... Joking wif u oni...\n",
       "2  spam  Free entry in 2 a wkly comp to win FA Cup fina...\n",
       "3   ham  U dun say so early hor... U c already then say...\n",
       "4   ham  Nah I don't think he goes to usf, he lives aro..."
      ]
     },
     "execution_count": 17,
     "metadata": {},
     "output_type": "execute_result"
    }
   ],
   "source": [
    "# Load dataset\n",
    "df = pd.read_csv('C:/Users/LENOVO/OneDrive - Alexandria National University/Desktop/spam.csv', encoding='latin-1')\n",
    "df = df[['v1', 'v2']]\n",
    "df.columns = ['label', 'message']\n",
    "df.head()"
   ]
  },
  {
   "cell_type": "code",
   "execution_count": 18,
   "id": "6c502208-f015-4016-a730-7a2caa159352",
   "metadata": {},
   "outputs": [],
   "source": [
    "# Data preprocessing\n",
    "def preprocess_text(text):\n",
    "    # Convert to lowercase\n",
    "    text = text.lower()\n",
    "\n",
    "    # Remove punctuation\n",
    "    text = ''.join([char for char in text if char not in string.punctuation])\n",
    "\n",
    "    # Tokenize\n",
    "    tokens = nltk.word_tokenize(text)\n",
    "\n",
    "    # Remove stopwords and stem\n",
    "    stop_words = set(stopwords.words('english'))\n",
    "    ps = PorterStemmer()\n",
    "    text = [ps.stem(word) for word in tokens if word not in stop_words]\n",
    "\n",
    "    return ' '.join(text)"
   ]
  },
  {
   "cell_type": "code",
   "execution_count": 19,
   "id": "9d276ac0-ae22-4e4a-a5f6-95cb83796040",
   "metadata": {},
   "outputs": [],
   "source": [
    "# Apply preprocessing\n",
    "df['clean_message'] = df['message'].apply(preprocess_text)\n",
    "\n",
    "# Encode labels\n",
    "df['label'] = df['label'].map({'ham': 0, 'spam': 1})\n",
    "\n",
    "# Split dataset\n",
    "X = df['clean_message']\n",
    "y = df['label']\n",
    "X_train, X_test, y_train, y_test = train_test_split(\n",
    "    X, y, test_size=0.2, random_state=42)"
   ]
  },
  {
   "cell_type": "code",
   "execution_count": 20,
   "id": "1b1d1432-3d45-4d20-ad8f-7610b7792083",
   "metadata": {},
   "outputs": [],
   "source": [
    "# Feature extraction with TF-IDF\n",
    "tfidf = TfidfVectorizer(max_features=5000)\n",
    "X_train_tfidf = tfidf.fit_transform(X_train)\n",
    "X_test_tfidf = tfidf.transform(X_test)"
   ]
  },
  {
   "cell_type": "code",
   "execution_count": 46,
   "id": "48b400c5-18ca-4b7d-9254-5715ab8546c0",
   "metadata": {},
   "outputs": [],
   "source": [
    "models = {\n",
    "    'Naive Bayes': MultinomialNB(),\n",
    "    'SVM': SVC(kernel='linear', probability=True),\n",
    "    'Random Forest': RandomForestClassifier(n_estimators=100),\n",
    "    'LogisticRegression':LogisticRegression(),\n",
    "    'DecisionTree': DecisionTreeClassifier(criterion= 'gini' ),\n",
    "    'xgboost': xgb.XGBClassifier(\n",
    "    n_estimators=100, \n",
    "    learning_rate=1)\n",
    "}\n",
    "\n",
    "# Train and evaluate models\n",
    "results = {}\n",
    "for name, model in models.items():\n",
    "    # Train model\n",
    "    model.fit(X_train_tfidf, y_train)\n",
    "\n",
    "    # Make predictions\n",
    "    y_pred = model.predict(X_test_tfidf)\n",
    "\n",
    "    # Evaluate performance\n",
    "    accuracy = accuracy_score(y_test, y_pred)\n",
    "    cm = confusion_matrix(y_test, y_pred)\n",
    "    report = classification_report(y_test, y_pred)\n",
    "\n",
    "    results[name] = {\n",
    "        'model': model,\n",
    "        'accuracy': accuracy,\n",
    "        'confusion_matrix': cm,\n",
    "        'report': report\n",
    "    }"
   ]
  },
  {
   "cell_type": "code",
   "execution_count": 47,
   "id": "041460e7-8ea7-4264-830b-200caeb05c4d",
   "metadata": {},
   "outputs": [
    {
     "name": "stdout",
     "output_type": "stream",
     "text": [
      "Model Comparison:\n",
      "Naive Bayes: Accuracy = 0.9677\n",
      "SVM: Accuracy = 0.9794\n",
      "Random Forest: Accuracy = 0.9776\n",
      "LogisticRegression: Accuracy = 0.9516\n",
      "DecisionTree: Accuracy = 0.9623\n",
      "xgboost: Accuracy = 0.9668\n"
     ]
    }
   ],
   "source": [
    "# Compare model performance\n",
    "print(\"Model Comparison:\")\n",
    "for name, res in results.items():\n",
    "    print(f\"{name}: Accuracy = {res['accuracy']:.4f}\")"
   ]
  },
  {
   "cell_type": "code",
   "execution_count": 48,
   "id": "bde370df-4c3a-438a-92ae-a593b4c79d99",
   "metadata": {},
   "outputs": [
    {
     "data": {
      "image/png": "[encoded data removed]",
      "text/plain": [
       "<Figure size 1000x600 with 1 Axes>"
      ]
     },
     "metadata": {},
     "output_type": "display_data"
    }
   ],
   "source": [
    "# Visualize results\n",
    "plt.figure(figsize=(10, 6))\n",
    "accuracies = [res['accuracy'] for res in results.values()]\n",
    "plt.bar(results.keys(), accuracies, color=['blue', 'green', 'red','yellow','pink','purple'])\n",
    "plt.title('Model Accuracy Comparison')\n",
    "plt.ylabel('Accuracy')\n",
    "plt.ylim(0.9, 1.0)\n",
    "plt.show()"
   ]
  },
  {
   "cell_type": "code",
   "execution_count": 25,
   "id": "d7a61818-541c-4248-9a1c-f0c59b820d52",
   "metadata": {},
   "outputs": [
    {
     "name": "stdout",
     "output_type": "stream",
     "text": [
      "\n",
      "Best Model: SVM\n"
     ]
    }
   ],
   "source": [
    "# Best model selection\n",
    "best_model_name = max(results, key=lambda x: results[x]['accuracy'])\n",
    "best_model = results[best_model_name]['model']\n",
    "print(f\"\\nBest Model: {best_model_name}\")\n",
    "#print(classification_report(y_test, best_model.predict(X_test_tfidf)))"
   ]
  },
  {
   "cell_type": "code",
   "execution_count": 26,
   "id": "45865c70-c115-48c0-8995-2859fd6da756",
   "metadata": {},
   "outputs": [
    {
     "name": "stdout",
     "output_type": "stream",
     "text": [
      "\n",
      "Sample Predictions:\n",
      "Ham test: Result: NOT SPAM (Confidence: 100.00%)\n",
      "Spam test: Result: SPAM (Confidence: 100.00%)\n"
     ]
    }
   ],
   "source": [
    "# Create prediction function\n",
    "def predict_spam(email_text):\n",
    "    cleaned_text = preprocess_text(email_text)\n",
    "    vectorized_text = tfidf.transform([cleaned_text])\n",
    "    prediction = best_model.predict(vectorized_text)\n",
    "    probability = best_model.predict_proba(vectorized_text)[0]\n",
    "\n",
    "    result = \"SPAM\" if prediction[0] == 1 else \"NOT SPAM\"\n",
    "    confidence = probability[1] if prediction[0] == 1 else probability[0]\n",
    "\n",
    "    return f\"Result: {result} (Confidence: {confidence:.2%})\"\n",
    "\n",
    "# Test with sample emails\n",
    "sample_ham = \"Hey, are we still meeting tomorrow at 3pm?\"\n",
    "sample_spam = \"WINNER!! You've been selected for a $1000 gift card. Claim now!\"\n",
    "\n",
    "print(\"\\nSample Predictions:\")\n",
    "print(f\"Ham test: {predict_spam(sample_ham)}\")\n",
    "print(f\"Spam test: {predict_spam(sample_spam)}\")"
   ]
  },
  {
   "cell_type": "code",
   "execution_count": 27,
   "id": "cbc7a0f6-c4a9-4f72-b05a-54b4fd1d1667",
   "metadata": {},
   "outputs": [
    {
     "name": "stdout",
     "output_type": "stream",
     "text": [
      "Result: SPAM (Confidence: 88.31%)\n",
      "Result: NOT SPAM (Confidence: 99.91%)\n"
     ]
    }
   ],
   "source": [
    "# Test samples\n",
    "print(predict_spam(\"Free gift card! Click now!\"))        # Should be SPAM\n",
    "print(predict_spam(\"Meeting at 3pm tomorrow\"))           # Should be HAM"
   ]
  },
  {
   "cell_type": "code",
   "execution_count": null,
   "id": "2757d5d9-38dd-4706-a8fc-c789641ce6d7",
   "metadata": {},
   "outputs": [],
   "source": []
  }
 ],
 "metadata": {
  "kernelspec": {
   "display_name": "Python 3 (ipykernel)",
   "language": "python",
   "name": "python3"
  },
  "language_info": {
   "codemirror_mode": {
    "name": "ipython",
    "version": 3
   },
   "file_extension": ".py",
   "mimetype": "text/x-python",
   "name": "python",
   "nbconvert_exporter": "python",
   "pygments_lexer": "ipython3",
   "version": "3.12.4"
  }
 },
 "nbformat": 4,
 "nbformat_minor": 5
}
